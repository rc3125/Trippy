{
 "cells": [
  {
   "cell_type": "markdown",
   "metadata": {},
   "source": [
    "Computational journalism: Technology, Media and Democracy\n",
    "------------------------------------------------\n",
    "\n",
    "**Background**\n",
    "\n",
    "First, the term *computational journalism.* What does it mean for journalism to be computational? Over the last few decades, computers have become part of our everyday lives. They regulate and shape our interactions with the physical and virtual worlds. Organizations increasingly equate (though not without problems) \"data release\" with transparency. Sensing (sound, light, air quality) is cheap and plentiful, and easily deployed by the general public. Our actions online generate vast quantities of digital data. And, increasingly, computer systems exercise real power in the world through the insertion of artificial intelligence alongside or in place of human decision making. In all of this, we can find new ways to ask questions about the world, how it's organized and how it functions. But the keys to this new digitized kingdom are data, code and algorithms. The curiosity, the questioning spirit, you developed last semester in your reporting classes, finds an outlet in new and unexpected ways, mediated by data, code and algorithms. Hence, *computational journalism.* It is simply a response to our new condition of living in a computational society.\n",
    "\n",
    "In this year's edition of the course, we will be focusing on computational tools and techniques that, while not necessarily new, certainly achieved new prominence in the national election in 2018 and beyond. The vast networks of information that are created every day are simply too large for us to examine in their entirety. To get a sense of \"what's on,\" we take feeds from algorithmic recommender systems, we scan trending topics, we focus on information shared with us by our friends or people we trust. Recently, we have seen how these tools and strategies for directing our attention can be hacked. Our course is part of a city-wide effort to create new technologies, to look for new kinds of stories, that respond to this new societal condition, to these \"threats to journalism.\" The broad initiative is described [here](https://www.techmediademocracy.nyc/) and you'll see that there are six campuses involved -- Cornell Tech, Columbia University, City University of New York, New York University, The New School and The Pratt Institute. \n",
    "\n",
    "From the all-city class syllabus:\n",
    "\n",
    ">This course will bring together journalism, design, media studies, and technical disciplines to understand the various threats to journalism and media, and attempt to address these challenges using technical and computational methods and techniques. The free press, journalism and the media are some of the most critical elements of our democracy, but have been increasingly under attack by political and market forces. These challenges include: dwindling resources and support for deep investigative journalism; smear, law and technical and even physical assaults of media organizations and journalists; challenges to credibility and reliability including fake news and discrediting campaigns; and shifting business models and income sources that threaten both local and national news organizations and coverage. \n",
    "\n",
    "This is the theme of our course. It is broad, admitedly, but we will be creating projects and stories that look at the interplay of technology and journalism. Here is a list of topics that your instructors have come up with together with others from the various participating campuses -- we invite you to add to or edit this list.\n",
    "\n",
    "> **Supporting Investigative Journalism with Tech**<br><br>\n",
    "> **Credibility and Misinformation**<br><br>\n",
    "> **Defending Journalism and Media**<br><br>\n",
    "> **Monetization and Business**<br><br>\n",
    "> **Media Landscape and Media Literacy**<br><br>\n",
    "\n",
    "Along the way, we will cover a variety of topics that will help you in your journalistic practice, both in the sense that you better understand the media \"ecology\" you interact with daily, but also we will teach you to look to these systems as a source of stories, and even perhaps as a source of inspiration to build some kind of new platform to support journalism. These are topics that we anticipate covering, but this is a balancing act with 6 campuses.\n",
    " \n",
    "> *Trending topics and the News Feed.* How do different organizations identify currently popular topics? What's being discussed right now? We will compare Facebook and Twitter, assembling large data sets and providing you with both an opportunity to question how well existing algorithms function as well as build something different.\n",
    "<br><br>\n",
    "> *Algorithmic recommender systems.* Distinct from trending topics, here we look newsfeed analysis. \n",
    "<br><br>\n",
    "> *Fake news.* This term needs to be retired, but the concept lets us discuss the Fake News AI (artificial intelligence) challenge, network analyses to see how a fake news story goes viral on Twitter, and even have a wiff of \"bots\" to see the role that fake Twitter accounts might be playing in material going viral. We will implement \"Hoaxy\" and the underlying tools that classify a Twitter account as fake. \n",
    "<br><br>\n",
    "> *Network analysis.* We introduce and build tools for looking at networks that are activated by certain kinds of material when shared on Twitter. We will buy 10,000 followers and examine how many are bots and how they behave. We will also look at networks of news sites that are all under the control of a single authority. How do you spot the depencence and then graph the networks? \n",
    "<br><br>\n",
    "> *Bots and botnets.* From conversational bots (deployed by the Clinton and Trump campaigns, for example), to bots that harass, to bots that \"join in\" and help spread content on a social network, to \"Google bombs\", we will examine how autonomous programs can be used to hack our attention.\n",
    "<br><br>\n",
    "> *Adtech.* We will begind with Facebooks's targeting abilities and then look at Google Ads and Facebook advertising as vehicles for fake news, for spreading viral content. \n",
    "<br><br>\n",
    "> *Explainable AI.* How can we make predictions, algorithms, more understandable? \n",
    "<br><br>\n",
    "\n",
    "We will learn a variety of tools along the way, and our primary programming language will be Python. We will talk through how we came to this decision, but for the moment, know that it is a flexible language that lets you easily connect to networks like Twitter, assemble and analyze data from formal databases and the web, and build responsive services based on all these inputs. \n",
    "\n",
    "We will use Python from within this notebook framework. The notebook is an ideal way to address you journalistic and programming needs. Beyond simply commenting on what\n",
    "your code is doing, these notebooks are a legitimate authoring system that you will use\n",
    "to create (and publish) pitches and memos for this class. "
   ]
  },
  {
   "cell_type": "markdown",
   "metadata": {},
   "source": [
    "**Why we code**\n",
    "\n",
    "The goal of this course is to introduce computation, broadly defined, as a tool for both finding and telling stories. This mean \"reporting on\" computation and its role in the world, as well as \"reporting with\" computing tools in pursuit of a story -- and any combination of the two.  \n",
    "\n",
    "When teaching computation (or any \"technology\") as part of a course, people often refer to \"literacy\" as a goal. For the most part, that term implies \"functional literacy\" -- do you understand how to use something? Can you write a program, say, to assemble a data set from the web? Stuart Selber, a professor of English at Penn State, writes about two other facets to being literate. After functional literacy, he defines \"critical literacy.\" Here are characteristics of a critically literate student.\n",
    "\n",
    ">*Design cultures.* A critically literate student scrutinizes the dominant perspectives that shape computer design cultures and their artifacts.\n",
    "\n",
    ">*Use contexts.* A critically literate student sees use contexts as an inseperable aspect of computers that helps to contextualize and constitute them.\n",
    "\n",
    ">*Institutional forces.* A critically literate student understands the institutional forces that shape computer use.\n",
    "\n",
    ">*Popular representations.* A critically literate student scrutinizes representations of \n",
    "computers in the public imagination.\n",
    "\n",
    "The third kind of literacy is \"rhetorical.\" \n",
    "\n",
    ">*Persuasion.* A rhetorically literate student understands that persuasion permeates interface design contexts in both implicit and explicit ways and that it always involves larger structures and forces (e.g., use contexts, ideology).\n",
    "\n",
    ">*Deliberation.* A rhetorically literate student understands that interface design problems are ill-defined problems whose solutions are representational arguments that have been arrived at through various deliberative activities.\n",
    "\n",
    ">*Reflection.* A rhetorically literate student articulates his or her interface design knowledge at a conscious level and subjects their actions and practices to critical assessment.\n",
    "\n",
    ">*Social action.* A rhetorically literate student sees interface design as a form of social versus technical action.\n",
    "\n",
    "From the standpoint of a journalism student, all of this might best be wrapped up in the following equivalences (shamelessly cribbed from Ian Bogost at Georgia Tech).\n",
    "<br><br>\n",
    "<center>**Digital Technology = Model of the World  = Argument**</center>\n",
    "<br><br>\n",
    "In short, every piece of digital technology embeds within it a model of the world. You might think of this as the dominant \"use case\" a designer had in mind. The net effect is that some actions are natural, \"designed for\", easy, while others are hard. And this is the argument. It is the way that technology trains you to adopt its conventions, its embedded model of the world. You are led to do the easy things and avoid the hard things. \n",
    "\n",
    "In this class, we will spend a great deal of time learning a programming language, Python. And yes, any given coding language has its own model of the world and makes its own arguments for certain kinds of practices (certain metaphors for actually writing code). But with a coding language comes almost unbounded flexibility to create. Unlike many of the designed systems we interact with, coding gives us the freedom to build, to imagine the world in new ways. \n",
    "\n",
    "All of these ideas take on particular resonance with our theme, \"Hacking your attention.\" We are inviting you to not only investigate existing algorithms for computing \"trending topics,\" but also to try out your own ideas about how this should be done. In an age when people are arguing for \"algorithmic accountability\" and \"explainable\" artificial intelligence\", it's the perfect time to consider a reporting practice that investigates by building. "
   ]
  },
  {
   "cell_type": "markdown",
   "metadata": {},
   "source": [
    "**Instructors**\n",
    "\n",
    "Given our ambitions for this course, we have an additional instructor who will be joining us for discussions, contributing to lectures and assignments, and providing assistance with your projects. \n",
    "\n",
    ">**Michael Young** *is the CTO of Digg.com. Before working for Digg, he was CTO/co-founder of a Betaworks-funded personalized news service called News.me. A few years after starting News.me, betaworks acquired Digg, at which time Michael and his News.me team transitioned into the group that would rebuild Digg. Prior to that, he was the lead Creative Technologist in the NYTimes R&D Lab. At the NYTimes R&D lab, Michael led a group charged with prototyping new ways of consuming media across mobile, web, tv and other connected devices (cars, etc). During his time there, he authored two books, won the Yahoo! BBC London Hack Day, received a patent for \"Method and System for Providing Preference Based Content to a Location Aware Mobile Device\" and was awarded a Knight-Batten Award for Innovations in Journalism. Michael has a degree in Computer Science and Math from Lewis & Clark College in Portland, OR.*"
   ]
  },
  {
   "cell_type": "markdown",
   "metadata": {},
   "source": [
    "**Assignments**\n",
    "\n",
    "**Each week**, you will receive notebooks, like this one, that you will work through outside of class. They will usually be due before the next class meeting, but specific deadlines will be given with each. There will be one or two per week and their level of detail will depend on the material. Sometimes they will be more drill-like, and other times they will challenge you to create something new. But don't worry, we do not assume you know anything about Python, in particular, or coding, in general. \n",
    "\n",
    "**You may work on your assignment in groups, but you should answer any questions in your own words. No copying. It is important that we see how well you are understanding the material.**\n",
    "\n",
    "In addition, **each week** you will find a story or some technology (program, platform, web site) that deals with the themes of the class. You will write a summary/critique, and contribute it to the course Tumblr page. To help you, here are the kinds of questions you might address about a story you read.\n",
    "\n",
    "1. What is the story about? Use no more than two sentences.\n",
    "2. What drew you to this story, and why does it enhance our class discussion?\n",
    "3. What data is used in the story, if any? How did the journalist obtain the data?\n",
    "4. How did the computing help in telling the story? Who performed the computations?\n",
    "5. Did the journalist \"show their work\" and could you recreate their results?\n",
    "6. What non-computing sources were used, and how do they contribute to the story?\n",
    "7. What would you do to follow up on this story? Where would you go next? \n",
    "\n",
    "These writeups are **due by 5pm Tuesday evenings.**\n",
    "\n",
    "The class will culminate in a final project, the largest component of your grade. You will work in groups of 2-3 students. Your project is meant to be an act of computational journalism. This might mean building and documenting a new data set or computing service, or using computation to probe an existing platform or data set to tell a new story. No matter what path is chosen, we expect a well-written, well-reported story memo that accompanies your analysis or technology development. \n",
    "\n",
    "**A significant story pitch describing your project is due March 26.** This should be of\n",
    "sufficient detail that it’s clear you will have a strong, finished project by the end of the\n",
    "term — you might have started building something, reporting on something and\n",
    "analyzing data, etc. The purpose of this midterm check-in is to avoid end-of-term\n",
    "surprises as data fall through, holes emerge or analyses break down.\n",
    "\n",
    "**Each Tuesday by 5pm** students will update a Jupyter notebook corresponding to\n",
    "their final project. Initially, this might consist entirely of text and straight-up reporting, along with questions about a story idea and how to proceed. It might also consist of computations and progress toward a final story memo. We expect just one update per group.\n",
    "\n",
    "**Grading**\n",
    "\n",
    "Grades will be divided between weekly writing assignments (computing or data story\n",
    "writeups and project updates), weekly coding drills, your final project, and attendance/\n",
    "participation. \n",
    "\n",
    "> 15% Attendance and participation<br>\n",
    "> 15% Blog contributions (computing stories) and presentations<br>\n",
    "> 15% Project updates<br>\n",
    "> 15% Coding homework<br>\n",
    "> 40% Final project\n",
    " \n",
    "We will make use of the “low pass” option for grading."
   ]
  },
  {
   "cell_type": "markdown",
   "metadata": {},
   "source": [
    "**Python and Jupyter**\n",
    "\n",
    "Python is a programming language created by a guy, [Guido van Rossum](https://en.wikipedia.org/wiki/Guido_van_Rossum). van Rossum began work on Python in the late 1980s and version 1.0 was released in 1994. Python now has a considerable development community and you can find important resources at the [Python web site.](https://www.python.org/) According to that site, Python is \"a high-level general-purpose programming language that can be applied to many different classes of problems.\" \n",
    "\n",
    "Those problems include  string manipuation -- looking at the words or sentences in a document, say. Python is conversant in network protocols which means you can use it to access web sites and services -- this will help with web scraping or pulling data from Twitter. There are add-ons contributed by the community that let you make wonderful maps and data visualizations, perform analysis on tabular data (but not in a wonky Excel fashion), and access data stored in a variety of different databases. \n",
    "\n",
    "In the late 1990s van Rossum wrote a proposal entitled [\"Computer Programming for Everybody\"](https://www.python.org/doc/essays/cp4e/). To give you a sense of van Rossum as a designer of technology, consider this passage.\n",
    "\n",
    ">In the dark ages, only those with power or great wealth (and selected experts) possessed reading and writing skills or the ability to acquire them. It can be argued that literacy of the general population (while still not 100%), together with the invention of printing technology, has been one of the most emancipatory forces of modern history.\n",
    "\n",
    ">We have only recently entered the information age, and it is expected that computer and communication technology will soon replace printing as the dominant form of information distribution technology. About half of all US households already own at least one personal computer, and this number is still growing.\n",
    "\n",
    ">However, while many people nowadays use a computer, few of them are computer programmers. Non-programmers aren't really \"empowered\" in how they can use their computer: they are confined to using applications in ways that \"programmers\" have determined for them. One doesn't need to be a visionary to see the limitations here.\n",
    "\n",
    "Later he envisions a world with millions or even billions of computer programmers at various levels of proficiency. His is a world where people are not trained by expert-created platforms, but instead have sufficient facility with computation to help shape the software systems around them.\n",
    "\n",
    "In the rest of this Jupyter notebook, we introduce Python as a language and prepare you for its basic \"syntax\" -- as a language, what are the nouns and verbs and what grammar glues them together? We will also introduce you to the Jupyter notebook itself.\n",
    "\n",
    "Jupyter, by the way, comes from the original core languages that the notebook supported -- Julia, Python and R. You might have heard about Python and R, but probably not Julia. In fact, new langauges are being created all the time, often tailored to particular kinds of problems. Python is a bit of a generalist, while R is great for statistical computations. [Here is a very long list](https://en.wikipedia.org/wiki/List_of_programming_languages) of programming languages. \n",
    "\n",
    "But our choice is made -- Python. Let's have a look!"
   ]
  },
  {
   "cell_type": "markdown",
   "metadata": {},
   "source": [
    "**Introduction**\n",
    "\n",
    "We will begin our introduction to Python with some of the most infamous artifacts since the last election -- Donald Trump's tweets. Trump's use of Twitter might be a topic for a final project, and this article in the New York Times, [**10 Times Trump Spread Fake News**](https://www.nytimes.com/interactive/2017/business/media/trump-fake-news.html?em_pos=small&emc=edit_tu_20170118&nl=bits&nl_art=1&nlid=16428923&ref=headline&te=1&_r=0&smid=tw-share), suggests broader connections with the themes of our class.\n",
    "\n",
    ">His sourcing highlights the bounty of misinformation accessible on the web and its power in a deeply divided America — especially when endorsed by someone of Mr. Trump’s influence and visibility.\n",
    "\n",
    ">He offered this explanation for his actions while discussing an altered YouTube video he had tweeted as part of an unsubstantiated claim that a protester at one of his rallies had ties to the Islamic State: “I don’t know what they made up; all I can do is play what’s there,” Mr. Trump said on NBC’s “Meet the Press.”\n",
    "\n",
    ">“All I know is what’s on the internet.”\n",
    "\n",
    "So, to begin. **This text is written in \"Markdown,\"** a kind of pre-language for creating HTML. You should have run through the Markdown exercise before class. You can double-click on this \"cell\" to see the raw Markdown, and then shift-enter to render it as HTML.\n",
    "\n",
    "Your notebook knows a few kinds of cells and we will spend our time primarily with Markdown and Python. The cell below this is a \"code\" cell-- it contains simple Python instructions or \"expressions.\" You \"execute\" the code in the cell by simply clicking and then shift-enter. "
   ]
  },
  {
   "cell_type": "code",
   "execution_count": 1,
   "metadata": {},
   "outputs": [
    {
     "data": {
      "text/plain": [
       "35"
      ]
     },
     "execution_count": 1,
     "metadata": {},
     "output_type": "execute_result"
    }
   ],
   "source": [
    "5+30"
   ]
  },
  {
   "cell_type": "markdown",
   "metadata": {},
   "source": [
    "You can also assign \"variables\" -- that is, we take the result of some expression or computation on the righthand side of the \"equals\" sign and let the name on the lefthand side refer to it. Here, \"p\" is associated with the sum of 5 and 30 and wherever we refer to p, that value of 35 is substituted."
   ]
  },
  {
   "cell_type": "code",
   "execution_count": 2,
   "metadata": {},
   "outputs": [
    {
     "data": {
      "text/plain": [
       "47"
      ]
     },
     "execution_count": 2,
     "metadata": {},
     "output_type": "execute_result"
    }
   ],
   "source": [
    "p = 5+30\n",
    "12+p"
   ]
  },
  {
   "cell_type": "markdown",
   "metadata": {},
   "source": [
    "Working with Python is about creating and evolving \"software objects\". For example, the number 35 is an object that, like objects in the real world, has things you can do with it (add it to or multiply it by another number, say) and various properties (for example, 35 is smaller than 38). Python's creators designed a series of powerful objects that will help us do a lot of work, and, importantly, they left open a backdoor so you can make new kinds of objects. Why might we do that?\n",
    "\n",
    "Community members have created objects to work with images and sound, to manipulate tabular data and not just single values like 35, to make requests for data across the web, or to suck the data out of PDF files. All of this will become second nature. But for now, the important thing is that **Python is an object-oriented language**, meaning that software objects are used to organize data and computations. \n",
    "\n",
    "You can get the type or \"class\" of any object by asking with the \"function\" type()."
   ]
  },
  {
   "cell_type": "code",
   "execution_count": 3,
   "metadata": {},
   "outputs": [
    {
     "data": {
      "text/plain": [
       "int"
      ]
     },
     "execution_count": 3,
     "metadata": {},
     "output_type": "execute_result"
    }
   ],
   "source": [
    "type(35)"
   ]
  },
  {
   "cell_type": "markdown",
   "metadata": {},
   "source": [
    "Here \"int\" stands for \"integer\" which we (hopefully) remember from grade school. \n",
    "\n",
    "Before we explain what functions like type() are (although they are again objects), let's look at some other data types. There are objects to represent \"real\" numbers, strings of characters and even objects that contain other objects, perhaps organizing them into a list."
   ]
  },
  {
   "cell_type": "code",
   "execution_count": 4,
   "metadata": {},
   "outputs": [
    {
     "data": {
      "text/plain": [
       "float"
      ]
     },
     "execution_count": 4,
     "metadata": {},
     "output_type": "execute_result"
    }
   ],
   "source": [
    "type(5.0/30.0 + 2.3)"
   ]
  },
  {
   "cell_type": "markdown",
   "metadata": {},
   "source": [
    "Wait, \"float\"? What's that? Hmm. \n",
    "\n",
    "Lucky thing Python even knows about more elaborate objects like YouTube videos. But we're getting ahead of ourselves. The type \"float\" represents a \"floating point number\" which is a computer representation of numbers that have a decimal point. "
   ]
  },
  {
   "cell_type": "code",
   "execution_count": null,
   "metadata": {
    "collapsed": true
   },
   "outputs": [],
   "source": [
    "from IPython.display import YouTubeVideo\n",
    "YouTubeVideo('PZRI1IfStY0')"
   ]
  },
  {
   "cell_type": "markdown",
   "metadata": {},
   "source": [
    "As we think about the kinds of data we come across everyday browsing the web, certainly numbers are important. But so too are sequences of characters or \"strings\". These might represent people's names or addresses, for example. We create a string in Python by surrounding a series of characters with quotations."
   ]
  },
  {
   "cell_type": "code",
   "execution_count": 5,
   "metadata": {},
   "outputs": [
    {
     "data": {
      "text/plain": [
       "str"
      ]
     },
     "execution_count": 5,
     "metadata": {},
     "output_type": "execute_result"
    }
   ],
   "source": [
    "type(\"Is he really going to make us read Trump's Tweets?\")"
   ]
  },
  {
   "cell_type": "markdown",
   "metadata": {},
   "source": [
    "We can again introduce variables to store this data descriptively, and work with the names as easily as we would the underlying data."
   ]
  },
  {
   "cell_type": "code",
   "execution_count": 6,
   "metadata": {},
   "outputs": [
    {
     "data": {
      "text/plain": [
       "\"Is he really going to make us read Trump's Tweets? Heaven help us.\""
      ]
     },
     "execution_count": 6,
     "metadata": {},
     "output_type": "execute_result"
    }
   ],
   "source": [
    "p = \"Is he really going to make us read Trump's Tweets?\"\n",
    "p + \" Heaven help us.\""
   ]
  },
  {
   "cell_type": "markdown",
   "metadata": {},
   "source": [
    "This is a nice example of computations changing depending on the type of the objects involved. Add two numbers and you get their sum. Add two strings and you get a concatenation. What about multiplication?"
   ]
  },
  {
   "cell_type": "code",
   "execution_count": 7,
   "metadata": {},
   "outputs": [
    {
     "data": {
      "text/plain": [
       "'Tweets Tweets Tweets Tweets Tweets Tweets Tweets Tweets Tweets Tweets '"
      ]
     },
     "execution_count": 7,
     "metadata": {},
     "output_type": "execute_result"
    }
   ],
   "source": [
    "\"Tweets \"*10"
   ]
  },
  {
   "cell_type": "markdown",
   "metadata": {},
   "source": [
    "To access the data and computations (methods) unique to a particular object, we use so-called \"dot\" or \".\" notation. What kinds of things might we want to do with strings, for example? What computations make sense?\n",
    "\n",
    "Note that the notebook has been \"printing\" out the result of the last computation in the cell. If we want to see the results of other computations, we need to call the \"print()\" command as we are doing below. So, instead of this..."
   ]
  },
  {
   "cell_type": "code",
   "execution_count": null,
   "metadata": {
    "collapsed": true
   },
   "outputs": [],
   "source": [
    "p = \"In addition to winning the Electoral College in a landslide...\"\n",
    "\n",
    "p.upper()"
   ]
  },
  {
   "cell_type": "markdown",
   "metadata": {},
   "source": [
    "... we could do this."
   ]
  },
  {
   "cell_type": "code",
   "execution_count": 8,
   "metadata": {},
   "outputs": [
    {
     "name": "stdout",
     "output_type": "stream",
     "text": [
      "IN ADDITION TO WINNING THE ELECTORAL COLLEGE IN A LANDSLIDE...\n",
      "in addition to winning the electoral college in a landslide...\n",
      "6\n",
      "In addigion go winning ghe Elecgoral College in a landslide...\n"
     ]
    }
   ],
   "source": [
    "p = \"In addition to winning the Electoral College in a landslide...\"\n",
    "\n",
    "print(p.upper())\n",
    "print(p.lower())\n",
    "\n",
    "print(p.count(\"i\"))\n",
    "print(p.replace(\"t\",\"g\"))"
   ]
  },
  {
   "cell_type": "markdown",
   "metadata": {},
   "source": [
    "Notice that when we are taking action like translating something to uppercase or counting the number of \"i\"'s in the string, we end the method with parentheses. Think back to your algebra when you were introduced to functions. It's the same concept here. Sometimes functions require \"arguments\" (like when we replaced the \"t\"'s with \"g\"'s) and sometimes they do not (like when we turned the string to upper or lowercase).\n",
    "\n",
    "Notice that methods can (and likely will be) unique to the kind of object we are dealing with. This will toss up an error because it's not clear how one turns a number into uppercase."
   ]
  },
  {
   "cell_type": "code",
   "execution_count": null,
   "metadata": {
    "collapsed": true
   },
   "outputs": [],
   "source": [
    "p = 40\n",
    "p.upper()"
   ]
  },
  {
   "cell_type": "markdown",
   "metadata": {},
   "source": [
    "Python has a simple help facility to let you see what kinds of things you can do to an object and what kinds of data it has. help() is another function, by the way. (This means we've seen two kinds of functions -- help() and type() are so-called \"globals\" that can be applied widely, whereas upper() and count() are associated with specific object types and are called with the dot notation.)"
   ]
  },
  {
   "cell_type": "code",
   "execution_count": 9,
   "metadata": {},
   "outputs": [
    {
     "name": "stdout",
     "output_type": "stream",
     "text": [
      "Help on class str in module builtins:\n",
      "\n",
      "class str(object)\n",
      " |  str(object='') -> str\n",
      " |  str(bytes_or_buffer[, encoding[, errors]]) -> str\n",
      " |  \n",
      " |  Create a new string object from the given object. If encoding or\n",
      " |  errors is specified, then the object must expose a data buffer\n",
      " |  that will be decoded using the given encoding and error handler.\n",
      " |  Otherwise, returns the result of object.__str__() (if defined)\n",
      " |  or repr(object).\n",
      " |  encoding defaults to sys.getdefaultencoding().\n",
      " |  errors defaults to 'strict'.\n",
      " |  \n",
      " |  Methods defined here:\n",
      " |  \n",
      " |  __add__(self, value, /)\n",
      " |      Return self+value.\n",
      " |  \n",
      " |  __contains__(self, key, /)\n",
      " |      Return key in self.\n",
      " |  \n",
      " |  __eq__(self, value, /)\n",
      " |      Return self==value.\n",
      " |  \n",
      " |  __format__(...)\n",
      " |      S.__format__(format_spec) -> str\n",
      " |      \n",
      " |      Return a formatted version of S as described by format_spec.\n",
      " |  \n",
      " |  __ge__(self, value, /)\n",
      " |      Return self>=value.\n",
      " |  \n",
      " |  __getattribute__(self, name, /)\n",
      " |      Return getattr(self, name).\n",
      " |  \n",
      " |  __getitem__(self, key, /)\n",
      " |      Return self[key].\n",
      " |  \n",
      " |  __getnewargs__(...)\n",
      " |  \n",
      " |  __gt__(self, value, /)\n",
      " |      Return self>value.\n",
      " |  \n",
      " |  __hash__(self, /)\n",
      " |      Return hash(self).\n",
      " |  \n",
      " |  __iter__(self, /)\n",
      " |      Implement iter(self).\n",
      " |  \n",
      " |  __le__(self, value, /)\n",
      " |      Return self<=value.\n",
      " |  \n",
      " |  __len__(self, /)\n",
      " |      Return len(self).\n",
      " |  \n",
      " |  __lt__(self, value, /)\n",
      " |      Return self<value.\n",
      " |  \n",
      " |  __mod__(self, value, /)\n",
      " |      Return self%value.\n",
      " |  \n",
      " |  __mul__(self, value, /)\n",
      " |      Return self*value.n\n",
      " |  \n",
      " |  __ne__(self, value, /)\n",
      " |      Return self!=value.\n",
      " |  \n",
      " |  __new__(*args, **kwargs) from builtins.type\n",
      " |      Create and return a new object.  See help(type) for accurate signature.\n",
      " |  \n",
      " |  __repr__(self, /)\n",
      " |      Return repr(self).\n",
      " |  \n",
      " |  __rmod__(self, value, /)\n",
      " |      Return value%self.\n",
      " |  \n",
      " |  __rmul__(self, value, /)\n",
      " |      Return self*value.\n",
      " |  \n",
      " |  __sizeof__(...)\n",
      " |      S.__sizeof__() -> size of S in memory, in bytes\n",
      " |  \n",
      " |  __str__(self, /)\n",
      " |      Return str(self).\n",
      " |  \n",
      " |  capitalize(...)\n",
      " |      S.capitalize() -> str\n",
      " |      \n",
      " |      Return a capitalized version of S, i.e. make the first character\n",
      " |      have upper case and the rest lower case.\n",
      " |  \n",
      " |  casefold(...)\n",
      " |      S.casefold() -> str\n",
      " |      \n",
      " |      Return a version of S suitable for caseless comparisons.\n",
      " |  \n",
      " |  center(...)\n",
      " |      S.center(width[, fillchar]) -> str\n",
      " |      \n",
      " |      Return S centered in a string of length width. Padding is\n",
      " |      done using the specified fill character (default is a space)\n",
      " |  \n",
      " |  count(...)\n",
      " |      S.count(sub[, start[, end]]) -> int\n",
      " |      \n",
      " |      Return the number of non-overlapping occurrences of substring sub in\n",
      " |      string S[start:end].  Optional arguments start and end are\n",
      " |      interpreted as in slice notation.\n",
      " |  \n",
      " |  encode(...)\n",
      " |      S.encode(encoding='utf-8', errors='strict') -> bytes\n",
      " |      \n",
      " |      Encode S using the codec registered for encoding. Default encoding\n",
      " |      is 'utf-8'. errors may be given to set a different error\n",
      " |      handling scheme. Default is 'strict' meaning that encoding errors raise\n",
      " |      a UnicodeEncodeError. Other possible values are 'ignore', 'replace' and\n",
      " |      'xmlcharrefreplace' as well as any other name registered with\n",
      " |      codecs.register_error that can handle UnicodeEncodeErrors.\n",
      " |  \n",
      " |  endswith(...)\n",
      " |      S.endswith(suffix[, start[, end]]) -> bool\n",
      " |      \n",
      " |      Return True if S ends with the specified suffix, False otherwise.\n",
      " |      With optional start, test S beginning at that position.\n",
      " |      With optional end, stop comparing S at that position.\n",
      " |      suffix can also be a tuple of strings to try.\n",
      " |  \n",
      " |  expandtabs(...)\n",
      " |      S.expandtabs(tabsize=8) -> str\n",
      " |      \n",
      " |      Return a copy of S where all tab characters are expanded using spaces.\n",
      " |      If tabsize is not given, a tab size of 8 characters is assumed.\n",
      " |  \n",
      " |  find(...)\n",
      " |      S.find(sub[, start[, end]]) -> int\n",
      " |      \n",
      " |      Return the lowest index in S where substring sub is found,\n",
      " |      such that sub is contained within S[start:end].  Optional\n",
      " |      arguments start and end are interpreted as in slice notation.\n",
      " |      \n",
      " |      Return -1 on failure.\n",
      " |  \n",
      " |  format(...)\n",
      " |      S.format(*args, **kwargs) -> str\n",
      " |      \n",
      " |      Return a formatted version of S, using substitutions from args and kwargs.\n",
      " |      The substitutions are identified by braces ('{' and '}').\n",
      " |  \n",
      " |  format_map(...)\n",
      " |      S.format_map(mapping) -> str\n",
      " |      \n",
      " |      Return a formatted version of S, using substitutions from mapping.\n",
      " |      The substitutions are identified by braces ('{' and '}').\n",
      " |  \n",
      " |  index(...)\n",
      " |      S.index(sub[, start[, end]]) -> int\n",
      " |      \n",
      " |      Return the lowest index in S where substring sub is found, \n",
      " |      such that sub is contained within S[start:end].  Optional\n",
      " |      arguments start and end are interpreted as in slice notation.\n",
      " |      \n",
      " |      Raises ValueError when the substring is not found.\n",
      " |  \n",
      " |  isalnum(...)\n",
      " |      S.isalnum() -> bool\n",
      " |      \n",
      " |      Return True if all characters in S are alphanumeric\n",
      " |      and there is at least one character in S, False otherwise.\n",
      " |  \n",
      " |  isalpha(...)\n",
      " |      S.isalpha() -> bool\n",
      " |      \n",
      " |      Return True if all characters in S are alphabetic\n",
      " |      and there is at least one character in S, False otherwise.\n",
      " |  \n",
      " |  isdecimal(...)\n",
      " |      S.isdecimal() -> bool\n",
      " |      \n",
      " |      Return True if there are only decimal characters in S,\n",
      " |      False otherwise.\n",
      " |  \n",
      " |  isdigit(...)\n",
      " |      S.isdigit() -> bool\n",
      " |      \n",
      " |      Return True if all characters in S are digits\n",
      " |      and there is at least one character in S, False otherwise.\n",
      " |  \n",
      " |  isidentifier(...)\n",
      " |      S.isidentifier() -> bool\n",
      " |      \n",
      " |      Return True if S is a valid identifier according\n",
      " |      to the language definition.\n",
      " |      \n",
      " |      Use keyword.iskeyword() to test for reserved identifiers\n",
      " |      such as \"def\" and \"class\".\n",
      " |  \n",
      " |  islower(...)\n",
      " |      S.islower() -> bool\n",
      " |      \n",
      " |      Return True if all cased characters in S are lowercase and there is\n",
      " |      at least one cased character in S, False otherwise.\n",
      " |  \n",
      " |  isnumeric(...)\n",
      " |      S.isnumeric() -> bool\n",
      " |      \n",
      " |      Return True if there are only numeric characters in S,\n",
      " |      False otherwise.\n",
      " |  \n",
      " |  isprintable(...)\n",
      " |      S.isprintable() -> bool\n",
      " |      \n",
      " |      Return True if all characters in S are considered\n",
      " |      printable in repr() or S is empty, False otherwise.\n",
      " |  \n",
      " |  isspace(...)\n",
      " |      S.isspace() -> bool\n",
      " |      \n",
      " |      Return True if all characters in S are whitespace\n",
      " |      and there is at least one character in S, False otherwise.\n",
      " |  \n",
      " |  istitle(...)\n",
      " |      S.istitle() -> bool\n",
      " |      \n",
      " |      Return True if S is a titlecased string and there is at least one\n",
      " |      character in S, i.e. upper- and titlecase characters may only\n",
      " |      follow uncased characters and lowercase characters only cased ones.\n",
      " |      Return False otherwise.\n",
      " |  \n",
      " |  isupper(...)\n",
      " |      S.isupper() -> bool\n",
      " |      \n",
      " |      Return True if all cased characters in S are uppercase and there is\n",
      " |      at least one cased character in S, False otherwise.\n",
      " |  \n",
      " |  join(...)\n",
      " |      S.join(iterable) -> str\n",
      " |      \n",
      " |      Return a string which is the concatenation of the strings in the\n",
      " |      iterable.  The separator between elements is S.\n",
      " |  \n",
      " |  ljust(...)\n",
      " |      S.ljust(width[, fillchar]) -> str\n",
      " |      \n",
      " |      Return S left-justified in a Unicode string of length width. Padding is\n",
      " |      done using the specified fill character (default is a space).\n",
      " |  \n",
      " |  lower(...)\n",
      " |      S.lower() -> str\n",
      " |      \n",
      " |      Return a copy of the string S converted to lowercase.\n",
      " |  \n",
      " |  lstrip(...)\n",
      " |      S.lstrip([chars]) -> str\n",
      " |      \n",
      " |      Return a copy of the string S with leading whitespace removed.\n",
      " |      If chars is given and not None, remove characters in chars instead.\n",
      " |  \n",
      " |  partition(...)\n",
      " |      S.partition(sep) -> (head, sep, tail)\n",
      " |      \n",
      " |      Search for the separator sep in S, and return the part before it,\n",
      " |      the separator itself, and the part after it.  If the separator is not\n",
      " |      found, return S and two empty strings.\n",
      " |  \n",
      " |  replace(...)\n",
      " |      S.replace(old, new[, count]) -> str\n",
      " |      \n",
      " |      Return a copy of S with all occurrences of substring\n",
      " |      old replaced by new.  If the optional argument count is\n",
      " |      given, only the first count occurrences are replaced.\n",
      " |  \n",
      " |  rfind(...)\n",
      " |      S.rfind(sub[, start[, end]]) -> int\n",
      " |      \n",
      " |      Return the highest index in S where substring sub is found,\n",
      " |      such that sub is contained within S[start:end].  Optional\n",
      " |      arguments start and end are interpreted as in slice notation.\n",
      " |      \n",
      " |      Return -1 on failure.\n",
      " |  \n",
      " |  rindex(...)\n",
      " |      S.rindex(sub[, start[, end]]) -> int\n",
      " |      \n",
      " |      Return the highest index in S where substring sub is found,\n",
      " |      such that sub is contained within S[start:end].  Optional\n",
      " |      arguments start and end are interpreted as in slice notation.\n",
      " |      \n",
      " |      Raises ValueError when the substring is not found.\n",
      " |  \n",
      " |  rjust(...)\n",
      " |      S.rjust(width[, fillchar]) -> str\n",
      " |      \n",
      " |      Return S right-justified in a string of length width. Padding is\n",
      " |      done using the specified fill character (default is a space).\n",
      " |  \n",
      " |  rpartition(...)\n",
      " |      S.rpartition(sep) -> (head, sep, tail)\n",
      " |      \n",
      " |      Search for the separator sep in S, starting at the end of S, and return\n",
      " |      the part before it, the separator itself, and the part after it.  If the\n",
      " |      separator is not found, return two empty strings and S.\n",
      " |  \n",
      " |  rsplit(...)\n",
      " |      S.rsplit(sep=None, maxsplit=-1) -> list of strings\n",
      " |      \n",
      " |      Return a list of the words in S, using sep as the\n",
      " |      delimiter string, starting at the end of the string and\n",
      " |      working to the front.  If maxsplit is given, at most maxsplit\n",
      " |      splits are done. If sep is not specified, any whitespace string\n",
      " |      is a separator.\n",
      " |  \n",
      " |  rstrip(...)\n",
      " |      S.rstrip([chars]) -> str\n",
      " |      \n",
      " |      Return a copy of the string S with trailing whitespace removed.\n",
      " |      If chars is given and not None, remove characters in chars instead.\n",
      " |  \n",
      " |  split(...)\n",
      " |      S.split(sep=None, maxsplit=-1) -> list of strings\n",
      " |      \n",
      " |      Return a list of the words in S, using sep as the\n",
      " |      delimiter string.  If maxsplit is given, at most maxsplit\n",
      " |      splits are done. If sep is not specified or is None, any\n",
      " |      whitespace string is a separator and empty strings are\n",
      " |      removed from the result.\n",
      " |  \n",
      " |  splitlines(...)\n",
      " |      S.splitlines([keepends]) -> list of strings\n",
      " |      \n",
      " |      Return a list of the lines in S, breaking at line boundaries.\n",
      " |      Line breaks are not included in the resulting list unless keepends\n",
      " |      is given and true.\n",
      " |  \n",
      " |  startswith(...)\n",
      " |      S.startswith(prefix[, start[, end]]) -> bool\n",
      " |      \n",
      " |      Return True if S starts with the specified prefix, False otherwise.\n",
      " |      With optional start, test S beginning at that position.\n",
      " |      With optional end, stop comparing S at that position.\n",
      " |      prefix can also be a tuple of strings to try.\n",
      " |  \n",
      " |  strip(...)\n",
      " |      S.strip([chars]) -> str\n",
      " |      \n",
      " |      Return a copy of the string S with leading and trailing\n",
      " |      whitespace removed.\n",
      " |      If chars is given and not None, remove characters in chars instead.\n",
      " |  \n",
      " |  swapcase(...)\n",
      " |      S.swapcase() -> str\n",
      " |      \n",
      " |      Return a copy of S with uppercase characters converted to lowercase\n",
      " |      and vice versa.\n",
      " |  \n",
      " |  title(...)\n",
      " |      S.title() -> str\n",
      " |      \n",
      " |      Return a titlecased version of S, i.e. words start with title case\n",
      " |      characters, all remaining cased characters have lower case.\n",
      " |  \n",
      " |  translate(...)\n",
      " |      S.translate(table) -> str\n",
      " |      \n",
      " |      Return a copy of the string S in which each character has been mapped\n",
      " |      through the given translation table. The table must implement\n",
      " |      lookup/indexing via __getitem__, for instance a dictionary or list,\n",
      " |      mapping Unicode ordinals to Unicode ordinals, strings, or None. If\n",
      " |      this operation raises LookupError, the character is left untouched.\n",
      " |      Characters mapped to None are deleted.\n",
      " |  \n",
      " |  upper(...)\n",
      " |      S.upper() -> str\n",
      " |      \n",
      " |      Return a copy of S converted to uppercase.\n",
      " |  \n",
      " |  zfill(...)\n",
      " |      S.zfill(width) -> str\n",
      " |      \n",
      " |      Pad a numeric string S with zeros on the left, to fill a field\n",
      " |      of the specified width. The string S is never truncated.\n",
      " |  \n",
      " |  ----------------------------------------------------------------------\n",
      " |  Static methods defined here:\n",
      " |  \n",
      " |  maketrans(x, y=None, z=None, /)\n",
      " |      Return a translation table usable for str.translate().\n",
      " |      \n",
      " |      If there is only one argument, it must be a dictionary mapping Unicode\n",
      " |      ordinals (integers) or characters to Unicode ordinals, strings or None.\n",
      " |      Character keys will be then converted to ordinals.\n",
      " |      If there are two arguments, they must be strings of equal length, and\n",
      " |      in the resulting dictionary, each character in x will be mapped to the\n",
      " |      character at the same position in y. If there is a third argument, it\n",
      " |      must be a string, whose characters will be mapped to None in the result.\n",
      "\n"
     ]
    }
   ],
   "source": [
    "p = \"Tweets\"\n",
    "help(type(p))"
   ]
  },
  {
   "cell_type": "code",
   "execution_count": null,
   "metadata": {
    "collapsed": true
   },
   "outputs": [],
   "source": [
    "p = 1.5\n",
    "help(type(p))"
   ]
  },
  {
   "cell_type": "code",
   "execution_count": null,
   "metadata": {
    "collapsed": true
   },
   "outputs": [],
   "source": [
    "p.as_integer_ratio()"
   ]
  },
  {
   "cell_type": "markdown",
   "metadata": {},
   "source": [
    "Before we leave this introduction, just a comment on how you can extend the capabilities of Python. It know about numbers and strings and a lot of different kinds of \"built-in\" objects. But sometimes you want to work with other objects not considered by the language's designers. Here we \"import\" functionality from other packages or modules contributed by community members. In the case below, we create an object representing a YouTubeVideo and play it. Be warned! This one is not as exciting as floating point numbers. It's about Jupyter :)"
   ]
  },
  {
   "cell_type": "code",
   "execution_count": null,
   "metadata": {
    "collapsed": true
   },
   "outputs": [],
   "source": [
    "from IPython.display import YouTubeVideo\n",
    "YouTubeVideo('GMKZD1Ohlzk')"
   ]
  },
  {
   "cell_type": "markdown",
   "metadata": {},
   "source": [
    "I should add that the Jupyter notebook is quite a thing on its own. You can publish it as a document, you can send it around for others to use. It is also capable of \"magic,\" allowing us to tell the notebook to interpret the code in a cell as Python (default) or R or HTML or even UNIX. Here's the HTML code for embedding one of Trump's Tweets, taken directly from Twitter.\n",
    "\n",
    "Here we use the \"%%\" to tell Jupyter that the code that follows is HTML and to render it as such in the browser. The result is an embedded Tweet. "
   ]
  },
  {
   "cell_type": "code",
   "execution_count": 10,
   "metadata": {},
   "outputs": [
    {
     "data": {
      "text/html": [
       "<blockquote class=\"twitter-tweet\" data-lang=\"en\"><p lang=\"en\" dir=\"ltr\">In the East, it could be the COLDEST New Year’s Eve on record. Perhaps we could use a little bit of that good old Global Warming that our Country, but not other countries, was going to pay TRILLIONS OF DOLLARS to protect against. Bundle up!</p>&mdash; Donald J. Trump (@realDonaldTrump) <a href=\"https://twitter.com/realDonaldTrump/status/946531657229701120?ref_src=twsrc%5Etfw\">December 29, 2017</a></blockquote>\n",
       "<script async src=\"https://platform.twitter.com/widgets.js\" charset=\"utf-8\"></script>"
      ],
      "text/plain": [
       "<IPython.core.display.HTML object>"
      ]
     },
     "metadata": {},
     "output_type": "display_data"
    }
   ],
   "source": [
    "%%HTML\n",
    "<blockquote class=\"twitter-tweet\" data-lang=\"en\"><p lang=\"en\" dir=\"ltr\">In the East, it could be the COLDEST New Year’s Eve on record. Perhaps we could use a little bit of that good old Global Warming that our Country, but not other countries, was going to pay TRILLIONS OF DOLLARS to protect against. Bundle up!</p>&mdash; Donald J. Trump (@realDonaldTrump) <a href=\"https://twitter.com/realDonaldTrump/status/946531657229701120?ref_src=twsrc%5Etfw\">December 29, 2017</a></blockquote>\n",
    "<script async src=\"https://platform.twitter.com/widgets.js\" charset=\"utf-8\"></script>"
   ]
  },
  {
   "cell_type": "markdown",
   "metadata": {},
   "source": [
    "Now, let's recall one of our more advanced objects, a string. Here is the text of a couple of Trump's tweets. Let's count how often words are used. (Be careful here, we are just looking for the exact set of characters in the count() method.)"
   ]
  },
  {
   "cell_type": "code",
   "execution_count": null,
   "metadata": {
    "collapsed": true
   },
   "outputs": [],
   "source": [
    "tweet = \"A government shutdown will be devastating to our military...something the Dems care very little about!\"\n",
    "tweet.count(\"o\")"
   ]
  },
  {
   "cell_type": "code",
   "execution_count": null,
   "metadata": {
    "collapsed": true
   },
   "outputs": [],
   "source": [
    "tweet = \"We need the Wall for the safety and security of our country. We need the Wall to help stop the massive inflow of drugs from Mexico, now rated the number one most dangerous country in the world. If there is no Wall, there is no Deal!\"\n",
    "tweet.count(\"Wall\")"
   ]
  },
  {
   "cell_type": "markdown",
   "metadata": {},
   "source": [
    "These are just a couple Tweets out of oh so many. You can have access to all Trump's Tweets through the [Trump Twitter Archive](http://www.trumptwitterarchive.com/). The underlying data [are stored here.](https://github.com/bpb27/political_twitter_archive/tree/master/realdonaldtrump) \n",
    "\n",
    "We will work with this data set in your drill (to be posted tomorrow). For now, we'll use a special copy we created that is basically a big text file, one line per tweet from 2018. [Download it here](https://raw.githubusercontent.com/computationaljournalism/columbia2018/master/data/trump.txt) and place it in the same folder as this notebook. You can hold down the \"Option\" key and click on this link to download it directly on a Mac, say.\n",
    "\n",
    "We then use a function called open() to open the file and read() in the contents. We'll have a lot to say about how you load data for Python to work with. For now, we are taking the file of Tweets and reading them in as one long text string."
   ]
  },
  {
   "cell_type": "code",
   "execution_count": 11,
   "metadata": {},
   "outputs": [
    {
     "data": {
      "text/plain": [
       "'\"ISIS is in retreat, our economy is booming, investments and jobs are pouring back into the country, and so much more! Together there is nothing we can’t overcome--even a very biased media. We ARE Making America Great Again!\"\\n\"Despite some very corrupt and dishonest media coverage, there are many great reporters I respect and lots of GOOD NEWS for the American people to be proud of!\"\\n\"And the FAKE NEWS winners are...\\nhttps://t.co/59G6x2f7fD\"\\n\"Main Street is BACK! Strongest Holiday Sales bump since the Great Recession -- beating forecasts by BILLIONS OF DOLLARS. https://t.co/kDcGbMieSt\"\\n\"During the campaign, I promised to MAKE AMERICA GREAT AGAIN by bringing businesses and jobs back to our country. I am very proud to see companies like Chrysler moving operations from Mexico to Michigan where there are so many great American workers! https://t.co/hz2q9UTfnF\"\\n\"I promised that my policies would allow companies like Apple to bring massive amounts of money back to the United States. Great to see Apple follow through as a result of TAX CUTS. Huge win for American workers and the USA! https://t.co/OwXVUyLOb1\"\\n\"Today, we witnessed an incredible moment in history – the presentation of Congress’ highest civilian honor to our friend, and true AMERICAN HERO, Bob Dole. #CongressionalGoldMedal https://t.co/qNQqDLRmCk\"\\n\"Eric Trump on @foxandfriends  now!\"\\n\"....we need to keep America safe, including moving away from a random chain migration and lottery system, to one that is merit-based. https://t.co/7PtoSFK1n2\"\\n\"New report from DOJ &amp; DHS shows that nearly 3 in 4 individuals convicted of terrorism-related charges are foreign-born. We have submitted to Congress a list of resources and reforms....\"\\n\"Today, it was my honor to welcome President Nursultan Nazarbayev of Kazakhstan to the @WhiteHouse! https://t.co/TerYFZViax\"\\n\"“President Donald J. Trump Proclaims January 16, 2018, as Religious Freedom Day” https://t.co/bD3R2dJfyp\"\\n\"Unemployment for Black Americans is the lowest ever recorded. Trump approval ratings with Black Americans has doubled. Thank you, and it will get even (much) better! @FoxNews\"\\n\"“90% of Trump 2017 news coverage was negative” -and much of it contrived!@foxandfriends\"\\n\"Do you notice the Fake News Mainstream Media never likes covering the great and record setting economic news, but rather talks about anything negative or that can be turned into the negative. The Russian Collusion Hoax is dead, except as it pertains to the Dems. Public gets it!\"\\n\"The Democrats want to shut down the Government over Amnesty for all and Border Security. The biggest loser will be our rapidly rebuilding Military, at a time we need it more than ever. We need a merit based system of immigration, and we need it now! No more dangerous Lottery.\"\\n\"We must have Security at our VERY DANGEROUS SOUTHERN BORDER, and we must have a great WALL to help protect us, and to help stop the massive inflow of drugs pouring into our country!\"\\n\"RT @realDonaldTrump: Senator Dicky Durbin totally misrepresented what was said at the DACA meeting. Deals can’t get made when there is no t…\"\\n\"RT @realDonaldTrump: DACA is probably dead because the Democrats don’t really want it, they just want to talk and take desperately needed m…\"\\n\"RT @realDonaldTrump: I, as President, want people coming into our Country who are going to help us become strong and great again, people co…\"\\n\"RT @realDonaldTrump: ...big unnecessary regulation cuts made it all possible” (among many other things). “President Trump reversed the poli…\"\\n\"RT @realDonaldTrump: “President Trump is not getting the credit he deserves for the economy. Tax Cut bonuses to more than 2,000,000 workers…\"\\n\"RT @EricTrump: I will be always be incredibly proud of my work for @StJude, raising $16.3+ million dollars over the last 10 years at a 9.2%…\"\\n\"RT @EricTrump: #MakeAmericaGreatAgain 🇺🇸🇺🇸🇺🇸 https://t.co/b81NtQGhHa\"\\n\"RT @Heritage: We had a special visitor yesterday. @IvankaTrump, thank you for meeting with @KayColesJames, spending time with our team, and…\"\\n\"Senator Dicky Durbin totally misrepresented what was said at the DACA meeting. Deals can’t get made when there is no trust! Durbin blew DACA and is hurting our Military.\"\\n\"RT @WhiteHouse: \"\"Dr. King\\'s dream is our dream. It is the American Dream. It\\'s the promise stitched into the fabric of our Nation, etched i…\"\\n\"...to stop drugs, they want to take money away from our military which we cannot do.” My standard is very simple, AMERICA FIRST &amp; MAKE AMERICA GREAT AGAIN!\"\\n\"Statement by me last night in Florida: “Honestly, I don’t think the Democrats want to make a deal. They talk about DACA, but they don’t want to help..We are ready, willing and able to make a deal but they don’t want to. They don’t want security at the border, they don’t want.....\"\\n\"...big unnecessary regulation cuts made it all possible” (among many other things). “President Trump reversed the policies of President Obama, and reversed our economic decline.” Thank you Stuart Varney.  @foxandfriends\"\\n\"“President Trump is not getting the credit he deserves for the economy. Tax Cut bonuses to more than 2,000,000 workers. Most explosive Stock Market rally that we’ve seen in modern times. 18,000 to 26,000 from Election, and grounded in profitability and growth. All Trump, not 0...\"\\n\"I, as President, want people coming into our Country who are going to help us become strong and great again, people coming in through a system based on MERIT. No more Lotteries! #AMERICA FIRST\"\\n\"DACA is probably dead because the Democrats don’t really want it, they just want to talk and take desperately needed money away from our Military.\"\\n\"RT @realDonaldTrump: So much Fake News is being reported. They don’t even try to get it right, or correct it when they are wrong. They prom…\"\\n\"...and they knew exactly what I said and meant. They just wanted a story. FAKE NEWS!\"\\n\"The Wall Street Journal stated falsely that I said to them “I have a good relationship with Kim Jong Un” (of N. Korea). Obviously I didn’t say that. I said “I’d have a good relationship with Kim Jong Un,” a big difference. Fortunately we now record conversations with reporters...\"\\n\"RT @paulsperry_: https://t.co/aU1rdyKA1W\"\\n\"RT @paulsperry_: Fusion GPS, firm behind disputed Russia dossier, retracts its claim of FBI mole in Trump camp\\nhttps://t.co/s6CFPXSVqb\"\\n\"RT @JackPosobiec: Dick Durbin called Trump racist for wanting to end chain migration. \\n\\nHere\\'s a video of Dick Durbin calling for an end to…\"\\n\"RT @LouDobbs: The stock market has gained an incredible 7.8 Trillion dollars in market value since @POTUS was elected! Looks like 4% econom…\"\\n\"So much Fake News is being reported. They don’t even try to get it right, or correct it when they are wrong. They promote the Fake Book of a mentally deranged author, who knowingly writes false information. The Mainstream Media is crazed that WE won the election!\"\\n\"I don’t believe the Democrats really want to see a deal on DACA. They are all talk and no action. This is the time but, day by day, they are blowing the one great opportunity they have. Too bad!\"\\n\"Yesterday was another big day for jobs and the Stock Market. Chrysler coming back to U.S. (Michigan) from Mexico and many more companies paying out Tax Cut money to employees. If Dems won in November, Market would have TANKED! It was headed for disaster.\"\\n\"AMERICA FIRST!\"\\n\"The Democrats are all talk and no action. They are doing nothing to fix DACA. Great opportunity missed. Too bad!\"\\n\"Yesterday was a big day for the stock market. Jobs are coming back to America. Chrysler is coming back to the USA, from Mexico and many others will follow. Tax cut money to employees is pouring into our economy with many more companies announcing. American business is hot again!\"\\n\"Today, it was my great honor to proclaim January 15, 2018, as Martin Luther King Jr., Federal Holiday. I encourage all Americans to observe this day with appropriate civic, community, and service activities in honor of Dr. King\\'s life and legacy. https://t.co/samlJsz1Nt\"\\n\"Never said anything derogatory about Haitians other than Haiti is, obviously, a very poor and troubled country. Never said “take them out.” Made up by Dems. I have a wonderful relationship with Haitians. Probably should record future meetings - unfortunately, no trust!\"\\n\"Sadly, Democrats want to stop paying our troops and government workers in order to give a sweetheart deal, not a fair deal, for DACA. Take care of our Military, and our Country, FIRST!\"\\n\"The language used by me at the DACA meeting was tough, but this was not the language used. What was really tough was the outlandish proposal made - a big setback for DACA!\"\\n\"....Because of the Democrats not being interested in life and safety, DACA has now taken a big step backwards. The Dems will threaten “shutdown,” but what they are really doing is shutting down our military, at a time we need it most. Get smart, MAKE AMERICA GREAT AGAIN!\"\\n\"....countries which are doing badly. I want a merit based system of immigration and people who will help take our country to the next level. I want safety and security for our people. I want to stop the massive inflow of drugs. I want to fund our military, not do a Dem defund....\"\\n\"The so-called bipartisan DACA deal presented yesterday to myself and a group of Republican Senators and Congressmen was a big step backwards. Wall was not properly funded, Chain &amp; Lottery were made worse and USA would be forced to take large numbers of people from high crime.....\"\\n\"Reason I canceled my trip to London is that I am not a big fan of the Obama Administration having sold perhaps the best located and finest embassy in London for “peanuts,” only to build a new one in an off location for 1.2 billion dollars. Bad deal. Wanted me to cut ribbon-NO!\"\\n\"The Democrats seem intent on having people and drugs pour into our country from the Southern Border, risking thousands of lives in the process. It is my duty to protect the lives and safety of all Americans. We must build a Great Wall, think Merit and end Lottery &amp; Chain. USA!\"\\n\"Democrat Dianne Feinstein should never have released secret committee testimony to the public without authorization. Very disrespectful to committee members and possibly illegal. She blamed her poor decision on the fact she had a cold - a first!\"\\n\"Chrysler is moving a massive plant from Mexico to Michigan, reversing a years long opposite trend. Thank you Chrysler, a very wise decision. The voters in Michigan are very happy they voted for Trump/Pence. Plenty of more to follow!\"\\n\"More great news as a result of historical Tax Cuts and Reform: Fiat Chrysler announces plan to invest more than $1 BILLION in Michigan plant, relocating their heavy-truck production from Mexico to Michigan, adding 2,500 new jobs and paying $2,000 bonus to U.S. employees! https://t.co/47azKD0l9B\"\\n\"Small Business Poll has highest approval numbers in the polls history. All business is just at the beginning of something really special!\"\\n\"Thank you Adam Levine, The Federalist, in interview on @foxandfriends  “Donald Trump is the greatest President our Country has ever seen.”\"\\n\"Yesterday, I signed the #INTERDICTAct (H.R. 2142) with bipartisan members of Congress to help end the flow of drugs into our country. Together, we are committed to doing everything we can to combat the deadly scourge of drug addiction and overdose in the United States! https://t.co/ELZvFol5Lo\"\\n\"Great news, as a result of our TAX CUTS &amp; JOBS ACT! https://t.co/SLvhLxP3Jl\"\\n\"With that being said, I have personally directed the fix to the unmasking process since taking office and today’s vote is about foreign surveillance of foreign bad guys on foreign land. We need it! Get smart!\"\\n\"“45 year low in illegal immigration this year.” @foxandfriends\"\\n\"“House votes on controversial FISA ACT today.” This is the act that may have been used, with the help of the discredited and phony Dossier, to so badly surveil and abuse the Trump Campaign by the previous administration and others?\"\\n\"In new Quinnipiac Poll, 66% of people feel the economy is “Excellent or Good.” That is the highest number ever recorded by this poll.\"\\n\"Disproven and paid for by Democrats “Dossier used to spy on Trump Campaign. Did FBI use Intel tool to influence the Election?” @foxandfriends  Did Dems or Clinton also pay Russians? Where are hidden and smashed DNC servers? Where are Crooked Hillary Emails?  What a mess!\"\\n\"Good news: Toyota and Mazda announce giant new Huntsville, Alabama, plant which will produce over 300,000 cars and SUV’s a year and employ 4000 people. Companies are coming back to the U.S. in a very big way. Congratulations Alabama!\"\\n\"Cutting taxes and simplifying regulations makes America the place to invest! Great news as Toyota and Mazda announce they are bringing 4,000 JOBS and investing $1.6 BILLION in Alabama, helping to further grow our economy! https://t.co/Kcg8IVH6iA\"\\n\"The United States needs the security of the Wall on the Southern Border, which must be part of any DACA approval. The safety and security of our country is #1! https://t.co/4CFzQXb5aS\"\\n\"Today, it was my great honor to welcome Prime Minister Erna Solberg of Norway to the @WhiteHouse - a great friend and ally of the United States! Joint press conference: https://t.co/qWR1BhfQZI https://t.co/PJvwznjRCO\"\\n\"I want to thank my @Cabinet for working tirelessly on behalf of our country. 2017 was a year of monumental achievement and we look forward to the year ahead. Together, we are delivering results and MAKING AMERICA GREAT AGAIN! https://t.co/ptXa1hAPwW https://t.co/yv6RALkQf3\"\\n\"The single greatest Witch Hunt in American history continues. There was no collusion, everybody including the Dems knows there was no collusion, &amp; yet on and on it goes. Russia &amp; the world is laughing at the stupidity they are witnessing. Republicans should finally take control!\"\\n\"The fact that Sneaky Dianne Feinstein, who has on numerous occasions stated that collusion between Trump/Russia has not been found, would release testimony in such an underhanded and possibly illegal way, totally without authorization, is a disgrace. Must have tough Primary!\"\\n\"It just shows everyone how broken and unfair our Court System is when the opposing side in a case (such as DACA) always runs to the 9th Circuit and almost always wins before being reversed by higher courts.\"\\n\".@ICEgov HSI agents and ERO officers, on behalf of an entire Nation, THANK YOU for what you are doing 24/7/365 to keep fellow American’s SAFE. Everyone is so grateful!\\n#LawEnforcementAppreciationDay\\nPresident @realDonaldTrump https://t.co/HXCpTlruVo\"\\n\"Thank you @GOPLeader Kevin McCarthy! Couldn’t agree w/you more. TOGETHER, we are #MAGA🇺🇸 https://t.co/QaxtqpyXTR\"\\n\"As I made very clear today, our country needs the security of the Wall on the Southern Border, which must be part of any DACA approval.\"\\n\"RT @Scavino45: “Utilities cutting rates, cite benefits of Trump tax reform” https://t.co/u19JMs4Bsr\"\\n\"Today, it was my great honor to sign a new Executive Order to ensure Veterans have the resources they need as they transition back to civilian life. We must ensure that our HEROES are given the care and support they so richly deserve! https://t.co/0MdP9DDIAS https://t.co/LP2a8KCBAp\"\\n\"Thanks to all of the Republican and Democratic lawmakers for today’s very productive meeting on immigration reform. There was strong agreement to negotiate a bill that deals with border security, chain migration, lottery and DACA. https://t.co/SdqAQ3aL3z https://t.co/8DYHZHspAy\"\\n\"It was my great honor to sign H.R. 267, the “Martin Luther King, Jr. National Historical Park Act,” which redesignates the Martin Luther King, Junior, National Historic Site in the State of Georgia as the Martin Luther King, Jr. National Historical Park. https://t.co/Qe0b6HBFTY https://t.co/QTgaqTawPT\"\\n\"On behalf of the American people, THANK YOU to our incredible law enforcement officers. As President of the United States - I will fight for you, and I will never, ever let you down. Now, more than ever, we must support the men and women in blue! #LawEnforcementAppreciationDay https://t.co/Qb4uxB4JRm\"\\n\"We are fighting for our farmers, for our country, and for our GREAT AMERICAN FLAG. We want our flag respected - and we want our NATIONAL ANTHEM respected also! https://t.co/16eOLXg6Fi\"\\n\"In every decision we make, we are honoring America’s PROUD FARMING LEGACY. Years of crushing taxes, crippling regs, &amp; corrupt politics left our communities hurting, our economy stagnant, &amp; millions of hardworking Americans COMPLETELY FORGOTTEN. But they are not forgotten ANYMORE! https://t.co/MdYS7xnukQ\"\\n\"We have been working every day to DELIVER for America’s Farmers just as they work every day to deliver FOR US. #AFBF18 https://t.co/QDH7fvFkZ7\"\\n\"Can’t wait to be back in the amazing state of Tennessee to address the 99th American @FarmBureau Federation’s Annual Convention in Nashville! #AFBF18\\n\\nOn my way now - join me LIVE at 4:00pmE: https://t.co/QaljAqekdD. https://t.co/Wm7Io0hYT8\"\\n\"African American unemployment is the lowest ever recorded in our country. The Hispanic unemployment rate dropped a full point in the last year and is close to the lowest in recorded history. Dems did nothing for you but get your vote!  #NeverForget  @foxandfriends\"\\n\"...Clinton in the WH, doubling down on Barack Obama’s failed policies, washes away any doubts that America made the right choice. This was truly a change election — and the changes Trump is bringing are far-reaching &amp; necessary.” Thank you Michael Goodwin! https://t.co/4fHNcx2Ydg\"\\n\"“His is turning out to be an enormously consequential presidency. So much so that, despite my own frustration over his missteps, there has never been a day when I wished Hillary Clinton were president. Not one. Indeed, as Trump’s accomplishments accumulate, the mere thought of...\"\\n\"....failed policies, washes away any doubts that America made the right choice. This was truly a change election, and the changes Trump is bringing are far-reaching and necessary.”  Thank you Michael Goodwin! (Please read entire column) mgoodwin@nypost.com\"\\n\"“His is turning out to be an enormously consensual presidency. So much so that...there has never been a day that I wished Hillary Clinton were President. Not one. Indeed, as Trump’s accomplishments accumulate, the mere thought of Clinton in the W.H., doubling down on Obama’s.....\"\\n\"The Stock Market has been creating tremendous benefits for our country in the form of not only Record Setting Stock Prices, but present and future Jobs, Jobs, Jobs. Seven TRILLION dollars of value created since our big election win!\"\\n\"The Fake News Awards, those going to the most corrupt &amp; biased of the Mainstream Media, will be presented to the losers on Wednesday, January 17th, rather than this coming Monday. The interest in, and importance of, these awards is far greater than anyone could have anticipated!\"\\n\"Jake Tapper of Fake News CNN just got destroyed in his interview with Stephen Miller of the Trump Administration. Watch the hatred and unfairness of this CNN flunky!\"\\n\"I’ve had to put up with the Fake News from the first day I announced that I would be running for President. Now I have to put up with a Fake Book, written by a totally discredited author. Ronald Reagan had the same problem and handled it well. So will I!\"\\n\"Leaving Camp David for the White House. Great meetings with the Cabinet and Military on many very important subjects including Border Security &amp; the desperately needed Wall, the ever increasing Drug and Opioid Problem, Infrastructure, Military, Budget, Trade and DACA.\"\\n\"....to President of the United States (on my first try). I think that would qualify as not smart, but genius....and a very stable genius at that!\"\\n\"....Actually, throughout my life, my two greatest assets have been mental stability and being, like, really smart. Crooked Hillary Clinton also played these cards very hard and, as everyone knows, went down in flames. I went from VERY successful businessman, to top T.V. Star.....\"\\n\"Now that Russian collusion, after one year of intense study, has proven to be a total hoax on the American public, the Democrats and their lapdogs, the Fake News Mainstream Media, are taking out the old Ronald Reagan playbook and screaming mental stability and intelligence.....\"\\n\"Brian Ross, the reporter who made a fraudulent live newscast about me that drove the Stock Market down 350 points (billions of dollars), was suspended for a month but is now back at ABC NEWS in a lower capacity. He is no longer allowed to report on Trump. Should have been fired!\"\\n\"The African American unemployment rate fell to 6.8%, the lowest rate in 45 years. I am so happy about this News! And, in the Washington Post (of all places), headline states, “Trumps first year jobs numbers were very, very good.”\"\\n\"Michael Wolff is a total loser who made up stories in order to sell this really boring and untruthful book. He used Sloppy Steve Bannon, who cried when he got fired and begged for his job. Now Sloppy Steve has been dumped like a dog by almost everyone. Too bad! https://t.co/mEeUhk5ZV9\"\\n\"Good idea Rand! https://t.co/55sqUDiC0s\"\\n\"The Mercer Family recently dumped the leaker known as Sloppy Steve Bannon. Smart!\"\\n\"Well, now that collusion with Russia is proving to be a total hoax and the only collusion is with Hillary Clinton and the FBI/Russia, the Fake News Media (Mainstream) and this phony new book are hitting out at every new front imaginable. They should try winning an election. Sad!\"\\n\"Dow goes from 18,589 on November 9, 2016, to 25,075 today, for a new all-time Record. Jumped 1000 points in last 5 weeks, Record fastest 1000 point move in history. This is all about the Make America Great Again agenda! Jobs, Jobs, Jobs. Six trillion dollars in value created!\"\\n\"The Fake News Media barely mentions the fact that the Stock Market just hit another New Record and that business in the U.S. is booming...but the people know! Can you imagine if “O” was president and had these numbers - would be biggest story on earth! Dow now over 25,000.\"\\n\"I authorized Zero access to White House (actually turned him down many times) for author of phony book! I never spoke to him for book. Full of lies, misrepresentations and sources that don’t exist. Look at this guy’s past and watch what happens to him and Sloppy Steve!\"\\n\"MAKING AMERICA GREAT AGAIN! https://t.co/iONbr1DkVk\"\\n\"Thank you to the great Republican Senators who showed up to our mtg on immigration reform. We must BUILD THE WALL, stop illegal immigration, end chain migration &amp; cancel the visa lottery. The current system is unsafe &amp; unfair to the great people of our country - time for change!\"\\n\"Dow just crashes through 25,000. Congrats! Big cuts in unnecessary regulations continuing.\"\\n\"So beautiful....Show this picture to the NFL players who still kneel! https://t.co/tJLM1tvbvb\"\\n\"With all of the failed “experts” weighing in, does anybody really believe that talks and dialogue would be going on between North and South Korea right now if I wasn’t firm, strong and willing to commit our total “might” against the North. Fools, but talks are a good thing!\"\\n\"As Americans, you need identification, sometimes in a very strong and accurate form, for almost everything you do.....except when it comes to the most important thing, VOTING for the people that run your country. Push hard for Voter Identification!\"\\n\"Many mostly Democrat States refused to hand over data from the 2016 Election to the Commission On Voter Fraud. They fought hard that the Commission not see their records or methods because they know that many people are voting illegally. System is rigged, must go to Voter I.D.\"\\n\"MAKE AMERICA GREAT AGAIN!\"\\n\"Stock Market had another good day but, now that the Tax Cut Bill has passed, we have tremendous upward potential. Dow just short of 25,000, a number that few thought would be possible this soon into my administration. Also, unemployment went down to 4.1%. Only getting better!\"\\n\"“Some 40 U.S. companies have responded to President Trump’s tax cut and reform victory in Congress last year by handing out bonuses up to $2,000, increases in 401k matches and spending on charity, a much higher number than previously known.” https://t.co/bmWrwWzxMR\"\\n\"Melania and I are deeply saddened by the death of Thomas S. Monson, a beloved President of the Church of Jesus Christ of Latter-day Saints...\\nhttps://t.co/ETD3fWtfU3\"\\n\"Such respect for the people of Iran as they try to take back their corrupt government. You will see great support from the United States at the appropriate time!\"\\n\"“President Trump has something now he didn’t have a year ago, that is a set of accomplishments that nobody can deny. The accomplishments are there, look at his record, he has had a very significant first year.” @LouDobbs Show,David Asman &amp; Ed Rollins\"\\n\"Watch @seanhannity tonight at 9:00 P.M.\"\\n\"I will be announcing THE MOST DISHONEST &amp; CORRUPT MEDIA AWARDS OF THE YEAR on Monday at 5:00 o’clock. Subjects will cover Dishonesty &amp; Bad Reporting in various categories from the Fake News Media. Stay tuned!\"\\n\"North Korean Leader Kim Jong Un just stated that the “Nuclear Button is on his desk at all times.” Will someone from his depleted and food starved regime please inform him that I too have a Nuclear Button, but it is a much bigger &amp; more powerful one than his, and my Button works!\"\\n\"...peace treaty with Israel. We have taken Jerusalem, the toughest part of the negotiation, off the table, but Israel, for that, would have had to pay more. But with the Palestinians no longer willing to talk peace, why should we make any of these massive future payments to them?\"\\n\"It\\'s not only Pakistan that we pay billions of dollars to for nothing, but also many other countries, and others. As an example, we pay the Palestinians HUNDRED OF MILLIONS OF DOLLARS a year and get no appreciation or respect. They don’t even want to negotiate a long overdue...\"\\n\"Congratulations to Senator Orrin Hatch on an absolutely incredible career. He has been a tremendous supporter, and I will never forget the (beyond kind) statements he has made about me as President. He is my friend and he will be greatly missed in the U.S. Senate! https://t.co/0VjzLEeHTl\"\\n\"We will not rest until all of America’s GREAT VETERANS can receive the care they so richly deserve. Tremendous progress has been made in a short period of time. Keep up the great work @SecShulkin @DeptVetAffairs! https://t.co/ir25vW15hx https://t.co/OtuzIgxMn6\"\\n\"Democrats are doing nothing for DACA - just interested in politics.  DACA activists and Hispanics will go hard against Dems, will start “falling in love” with Republicans and their President! We are about RESULTS.\"\\n\"....impartial journalists of a much higher standard, lose all of your phony and non-existent “sources,” and treat the President of the United States FAIRLY, so that the next time I (and the people) win, you won’t have to write an apology to your readers for a job poorly done! GL\"\\n\"The Failing New York Times has a new publisher, A.G. Sulzberger. Congratulations! Here is a last chance for the Times to fulfill the vision of its Founder, Adolph Ochs, “to give the news impartially, without fear or FAVOR, regardless of party, sect, or interests involved.” Get...\"\\n\"Since taking office I have been very strict on Commercial Aviation. Good news - it was just reported that there were Zero deaths in 2017, the best and safest year on record!\"\\n\"Sanctions and “other” pressures are beginning to have a big impact on North Korea. Soldiers are dangerously fleeing to South Korea. Rocket man now wants to talk to South Korea for first time. Perhaps that is good news, perhaps not - we will see!\"\\n\"Companies are giving big bonuses to their workers because of the Tax Cut Bill. Really great!\"\\n\"Thank you to Brandon Judd of the National Border Patrol Council for your kind words on how well we are doing at the Border. We will be bringing in more &amp; more of your great folks and will build the desperately needed WALL! @foxandfriends\"\\n\"Crooked Hillary Clinton’s top aid, Huma Abedin, has been accused of disregarding basic security protocols. She put Classified Passwords into the hands of foreign agents. Remember sailors pictures on submarine? Jail! Deep State Justice Dept must finally act? Also on Comey &amp; others\"\\n\"The people of Iran are finally acting against the brutal and corrupt Iranian regime. All of the money that President Obama so foolishly gave them went into terrorism and into their “pockets.” The people have little food, big inflation and no human rights. The U.S. is watching!\"\\n\"Will be leaving Florida for Washington (D.C.) today at 4:00 P.M. Much work to be done, but it will be a great New Year!\"\\n\"Iran is failing at every level despite the terrible deal made with them by the Obama Administration. The great Iranian people have been repressed for many years. They are hungry for food &amp; for freedom. Along with human rights, the wealth of Iran is being looted. TIME FOR CHANGE!\"\\n\"The United States has foolishly given Pakistan more than 33 billion dollars in aid over the last 15 years, and they have given us nothing but lies &amp; deceit, thinking of our leaders as fools. They give safe haven to the terrorists we hunt in Afghanistan, with little help. No more!\"\\n'"
      ]
     },
     "execution_count": 11,
     "metadata": {},
     "output_type": "execute_result"
    }
   ],
   "source": [
    "tweets = open(\"trumptweet.txt\").read()\n",
    "tweets"
   ]
  },
  {
   "cell_type": "markdown",
   "metadata": {},
   "source": [
    "This exhibited string includes characters like \"\\n\". This special character means a newline -- it is what happens when you hit \"enter\" when you are typing in a Word document. We can have the \"\\n\"'s print as actual newlines by using the command \"print()\" instead. (This is one of the differences between having the notebook \"print\" out the result of your last computation and formally calling Python's print() command.) Here we will get one line (perhaps wrapped) per Tweet."
   ]
  },
  {
   "cell_type": "code",
   "execution_count": 28,
   "metadata": {},
   "outputs": [
    {
     "data": {
      "text/plain": [
       "8"
      ]
     },
     "execution_count": 28,
     "metadata": {},
     "output_type": "execute_result"
    }
   ],
   "source": [
    "tweets.upper().count(\"BAD\")"
   ]
  },
  {
   "cell_type": "code",
   "execution_count": null,
   "metadata": {
    "collapsed": true
   },
   "outputs": [],
   "source": [
    "# As \"tweets\" is one long string, write some code and tell \n",
    "# us something about Trump's tweets from 2018 so far\n",
    "\n"
   ]
  }
 ],
 "metadata": {
  "anaconda-cloud": {},
  "kernelspec": {
   "display_name": "Python 3",
   "language": "python",
   "name": "python3"
  },
  "language_info": {
   "codemirror_mode": {
    "name": "ipython",
    "version": 3
   },
   "file_extension": ".py",
   "mimetype": "text/x-python",
   "name": "python",
   "nbconvert_exporter": "python",
   "pygments_lexer": "ipython3",
   "version": "3.6.3"
  }
 },
 "nbformat": 4,
 "nbformat_minor": 1
}
