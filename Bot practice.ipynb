{
 "cells": [
  {
   "cell_type": "code",
   "execution_count": 1,
   "metadata": {},
   "outputs": [
    {
     "name": "stdout",
     "output_type": "stream",
     "text": [
      "Collecting git+https://github.com/computationaljournalism/alexa_bot.git@v0.3\n",
      "  Cloning https://github.com/computationaljournalism/alexa_bot.git (to v0.3) to /private/var/folders/b2/k7fzxtvs52v_1c67vgyl9znh0000gn/T/pip-1344v_ue-build\n",
      "  Requirement already satisfied (use --upgrade to upgrade): alexa-bot==0.3 from git+https://github.com/computationaljournalism/alexa_bot.git@v0.3 in /anaconda3/lib/python3.6/site-packages\n",
      "Requirement already satisfied: flask_ask in /anaconda3/lib/python3.6/site-packages (from alexa-bot==0.3)\n",
      "Requirement already satisfied: aniso8601==1.2.0 in /anaconda3/lib/python3.6/site-packages (from flask_ask->alexa-bot==0.3)\n",
      "Requirement already satisfied: six==1.10.0 in /anaconda3/lib/python3.6/site-packages (from flask_ask->alexa-bot==0.3)\n",
      "Requirement already satisfied: pyOpenSSL==17.0.0 in /anaconda3/lib/python3.6/site-packages (from flask_ask->alexa-bot==0.3)\n",
      "Requirement already satisfied: Flask==0.12.1 in /anaconda3/lib/python3.6/site-packages (from flask_ask->alexa-bot==0.3)\n",
      "Requirement already satisfied: PyYAML==3.12 in /anaconda3/lib/python3.6/site-packages (from flask_ask->alexa-bot==0.3)\n",
      "Requirement already satisfied: python-dateutil in /anaconda3/lib/python3.6/site-packages (from aniso8601==1.2.0->flask_ask->alexa-bot==0.3)\n",
      "Requirement already satisfied: cryptography>=1.7 in /anaconda3/lib/python3.6/site-packages (from pyOpenSSL==17.0.0->flask_ask->alexa-bot==0.3)\n",
      "Requirement already satisfied: itsdangerous>=0.21 in /anaconda3/lib/python3.6/site-packages (from Flask==0.12.1->flask_ask->alexa-bot==0.3)\n",
      "Requirement already satisfied: click>=2.0 in /anaconda3/lib/python3.6/site-packages (from Flask==0.12.1->flask_ask->alexa-bot==0.3)\n",
      "Requirement already satisfied: Werkzeug>=0.7 in /anaconda3/lib/python3.6/site-packages (from Flask==0.12.1->flask_ask->alexa-bot==0.3)\n",
      "Requirement already satisfied: Jinja2>=2.4 in /anaconda3/lib/python3.6/site-packages (from Flask==0.12.1->flask_ask->alexa-bot==0.3)\n",
      "Requirement already satisfied: idna>=2.1 in /anaconda3/lib/python3.6/site-packages (from cryptography>=1.7->pyOpenSSL==17.0.0->flask_ask->alexa-bot==0.3)\n",
      "Requirement already satisfied: asn1crypto>=0.21.0 in /anaconda3/lib/python3.6/site-packages (from cryptography>=1.7->pyOpenSSL==17.0.0->flask_ask->alexa-bot==0.3)\n",
      "Requirement already satisfied: cffi>=1.7 in /anaconda3/lib/python3.6/site-packages (from cryptography>=1.7->pyOpenSSL==17.0.0->flask_ask->alexa-bot==0.3)\n",
      "Requirement already satisfied: MarkupSafe>=0.23 in /anaconda3/lib/python3.6/site-packages (from Jinja2>=2.4->Flask==0.12.1->flask_ask->alexa-bot==0.3)\n",
      "Requirement already satisfied: pycparser in /anaconda3/lib/python3.6/site-packages (from cffi>=1.7->cryptography>=1.7->pyOpenSSL==17.0.0->flask_ask->alexa-bot==0.3)\n"
     ]
    }
   ],
   "source": [
    "%%sh\n",
    "pip install git+https://github.com/computationaljournalism/alexa_bot.git@v0.3"
   ]
  },
  {
   "cell_type": "code",
   "execution_count": 8,
   "metadata": {
    "collapsed": true
   },
   "outputs": [],
   "source": [
    "from alexa_bot import AlexaBot\n",
    "from flask_ask import statement, question, session"
   ]
  },
  {
   "cell_type": "code",
   "execution_count": 7,
   "metadata": {
    "collapsed": true
   },
   "outputs": [],
   "source": [
    "def launch_intent():\n",
    "    print(\"starting up\")\n",
    "    return(question(\"Welcome to Trippy! Where would you like to go today?\"))"
   ]
  },
  {
   "cell_type": "code",
   "execution_count": 9,
   "metadata": {
    "collapsed": true
   },
   "outputs": [],
   "source": [
    "def no_intent():\n",
    "    print(\"the no intent was called\")\n",
    "    return(statement(\"no? really?\"))\n",
    "\n",
    "def yes_intent():\n",
    "    print(\"the yes intent was called\")\n",
    "    return(statement(\"yes!\"))"
   ]
  },
  {
   "cell_type": "code",
   "execution_count": 10,
   "metadata": {
    "collapsed": true
   },
   "outputs": [],
   "source": [
    "config = [\n",
    "    ['launch', launch_intent],\n",
    "    ['AMAZON.NoIntent', no_intent],\n",
    "    ['AMAZON.YesIntent', yes_intent],\n",
    "]"
   ]
  },
  {
   "cell_type": "code",
   "execution_count": null,
   "metadata": {},
   "outputs": [
    {
     "name": "stderr",
     "output_type": "stream",
     "text": [
      " * Running on http://127.0.0.1:5000/ (Press CTRL+C to quit)\n"
     ]
    }
   ],
   "source": [
    "bot = AlexaBot(config)\n",
    "bot.start()"
   ]
  },
  {
   "cell_type": "code",
   "execution_count": 3,
   "metadata": {},
   "outputs": [
    {
     "data": {
      "text/plain": [
       "{'intents': [{'intent': 'AMAZON.YesIntent'},\n",
       "  {'intent': 'AMAZON.NoIntent'},\n",
       "  {'intent': 'PaymentIntent',\n",
       "   'slots': [{'name': 'us_city', 'type': 'AMAZON.US_CITY'}]},\n",
       "  {'intent': 'TravelInfoIntent',\n",
       "   'slots': [{'name': 'us_city', 'type': 'AMAZON.US_CITY'},\n",
       "    {'name': 'travel_info', 'type': 'TravelInfo'}]},\n",
       "  {'intent': 'BudgetIntent',\n",
       "   'slots': [{'name': 'number', 'type': 'AMAZON.NUMBER'}]}]}"
      ]
     },
     "execution_count": 3,
     "metadata": {},
     "output_type": "execute_result"
    }
   ],
   "source": [
    "{\n",
    "  \"intents\": [\n",
    "    {\n",
    "      \"intent\": \"AMAZON.YesIntent\"\n",
    "    },\n",
    "    {\n",
    "      \"intent\": \"AMAZON.NoIntent\"\n",
    "    },\n",
    "    {\n",
    "      \"intent\": \"PaymentIntent\",\n",
    "      \"slots\": [\n",
    "        {\n",
    "          \"name\": \"us_city\",\n",
    "          \"type\": \"AMAZON.US_CITY\"\n",
    "        }\n",
    "      ]\n",
    "    },\n",
    "    {\n",
    "      \"intent\": \"TravelInfoIntent\",\n",
    "      \"slots\": [\n",
    "        {\n",
    "          \"name\": \"us_city\",\n",
    "          \"type\": \"AMAZON.US_CITY\"\n",
    "        },\n",
    "        {\n",
    "          \"name\": \"travel_info\",\n",
    "          \"type\": \"TravelInfo\"\n",
    "        }\n",
    "      ]\n",
    "    }, {\n",
    "      \"intent\": \"BudgetIntent\",\n",
    "      \"slots\": [\n",
    "        {\n",
    "          \"name\": \"number\",\n",
    "          \"type\": \"AMAZON.NUMBER\"\n",
    "        }\n",
    "      ]\n",
    "    }\n",
    "    \n",
    "  ]\n",
    "}"
   ]
  },
  {
   "cell_type": "code",
   "execution_count": 3,
   "metadata": {},
   "outputs": [
    {
     "data": {
      "text/html": [
       "<div>\n",
       "<style>\n",
       "    .dataframe thead tr:only-child th {\n",
       "        text-align: right;\n",
       "    }\n",
       "\n",
       "    .dataframe thead th {\n",
       "        text-align: left;\n",
       "    }\n",
       "\n",
       "    .dataframe tbody tr th {\n",
       "        vertical-align: top;\n",
       "    }\n",
       "</style>\n",
       "<table border=\"1\" class=\"dataframe\">\n",
       "  <thead>\n",
       "    <tr style=\"text-align: right;\">\n",
       "      <th></th>\n",
       "      <th>city_name</th>\n",
       "      <th>budget_range</th>\n",
       "      <th>hotel</th>\n",
       "    </tr>\n",
       "  </thead>\n",
       "  <tbody>\n",
       "    <tr>\n",
       "      <th>0</th>\n",
       "      <td>New Orleans</td>\n",
       "      <td>400</td>\n",
       "      <td>Wyndham New Orleans</td>\n",
       "    </tr>\n",
       "    <tr>\n",
       "      <th>1</th>\n",
       "      <td>Cincinnati</td>\n",
       "      <td>500</td>\n",
       "      <td>Hyatt Regency Cincinnati</td>\n",
       "    </tr>\n",
       "    <tr>\n",
       "      <th>2</th>\n",
       "      <td>Baltimore</td>\n",
       "      <td>350</td>\n",
       "      <td>Hotel Indigo Baltimore</td>\n",
       "    </tr>\n",
       "    <tr>\n",
       "      <th>3</th>\n",
       "      <td>Denver</td>\n",
       "      <td>600</td>\n",
       "      <td>Capitol Hill Mansion Bed and Breakfast</td>\n",
       "    </tr>\n",
       "    <tr>\n",
       "      <th>4</th>\n",
       "      <td>Buffalo</td>\n",
       "      <td>300</td>\n",
       "      <td>Parkside House</td>\n",
       "    </tr>\n",
       "    <tr>\n",
       "      <th>5</th>\n",
       "      <td>Orlando</td>\n",
       "      <td>750</td>\n",
       "      <td>Holiday Inn Orlando</td>\n",
       "    </tr>\n",
       "    <tr>\n",
       "      <th>6</th>\n",
       "      <td>Seattle</td>\n",
       "      <td>700</td>\n",
       "      <td>Mayflower Park Hotel</td>\n",
       "    </tr>\n",
       "  </tbody>\n",
       "</table>\n",
       "</div>"
      ],
      "text/plain": [
       "     city_name  budget_range                                   hotel\n",
       "0  New Orleans           400                     Wyndham New Orleans\n",
       "1   Cincinnati           500                Hyatt Regency Cincinnati\n",
       "2    Baltimore           350                  Hotel Indigo Baltimore\n",
       "3       Denver           600  Capitol Hill Mansion Bed and Breakfast\n",
       "4      Buffalo           300                          Parkside House\n",
       "5      Orlando           750                     Holiday Inn Orlando\n",
       "6      Seattle           700                    Mayflower Park Hotel"
      ]
     },
     "execution_count": 3,
     "metadata": {},
     "output_type": "execute_result"
    }
   ],
   "source": [
    "from pandas import DataFrame\n",
    "from pandas import read_csv\n",
    "\n",
    "cities = read_csv(\"Trippycities.csv\")\n",
    "cities\n",
    "\n"
   ]
  },
  {
   "cell_type": "code",
   "execution_count": null,
   "metadata": {},
   "outputs": [
    {
     "name": "stderr",
     "output_type": "stream",
     "text": [
      " * Running on http://127.0.0.1:5000/ (Press CTRL+C to quit)\n",
      "127.0.0.1 - - [26/Feb/2018 17:25:30] \"POST / HTTP/1.1\" 200 -\n"
     ]
    },
    {
     "name": "stdout",
     "output_type": "stream",
     "text": [
      "start Trippy launch\n"
     ]
    },
    {
     "name": "stderr",
     "output_type": "stream",
     "text": [
      "127.0.0.1 - - [26/Feb/2018 17:25:40] \"POST / HTTP/1.1\" 200 -\n"
     ]
    },
    {
     "name": "stdout",
     "output_type": "stream",
     "text": [
      "travel intent called with: New Orleans and hotel\n"
     ]
    },
    {
     "name": "stderr",
     "output_type": "stream",
     "text": [
      "127.0.0.1 - - [26/Feb/2018 17:25:56] \"POST / HTTP/1.1\" 200 -\n"
     ]
    },
    {
     "name": "stdout",
     "output_type": "stream",
     "text": [
      "start Trippy launch\n"
     ]
    },
    {
     "name": "stderr",
     "output_type": "stream",
     "text": [
      "127.0.0.1 - - [26/Feb/2018 17:26:05] \"POST / HTTP/1.1\" 200 -\n"
     ]
    },
    {
     "name": "stdout",
     "output_type": "stream",
     "text": [
      "budget intent called with:400\n"
     ]
    },
    {
     "name": "stderr",
     "output_type": "stream",
     "text": [
      "127.0.0.1 - - [26/Feb/2018 17:26:14] \"POST / HTTP/1.1\" 200 -\n"
     ]
    },
    {
     "name": "stdout",
     "output_type": "stream",
     "text": [
      "start Trippy launch\n"
     ]
    },
    {
     "name": "stderr",
     "output_type": "stream",
     "text": [
      "127.0.0.1 - - [26/Feb/2018 17:26:23] \"POST / HTTP/1.1\" 200 -\n"
     ]
    },
    {
     "name": "stdout",
     "output_type": "stream",
     "text": [
      "payment intent called withBaltimore\n"
     ]
    },
    {
     "name": "stderr",
     "output_type": "stream",
     "text": [
      "127.0.0.1 - - [26/Feb/2018 17:26:48] \"POST / HTTP/1.1\" 200 -\n"
     ]
    },
    {
     "name": "stdout",
     "output_type": "stream",
     "text": [
      "start Trippy launch\n"
     ]
    },
    {
     "name": "stderr",
     "output_type": "stream",
     "text": [
      "127.0.0.1 - - [26/Feb/2018 17:26:56] \"POST / HTTP/1.1\" 200 -\n"
     ]
    },
    {
     "name": "stdout",
     "output_type": "stream",
     "text": [
      "budget intent called with:700\n"
     ]
    },
    {
     "name": "stderr",
     "output_type": "stream",
     "text": [
      "127.0.0.1 - - [26/Feb/2018 17:44:33] \"POST / HTTP/1.1\" 200 -\n"
     ]
    },
    {
     "name": "stdout",
     "output_type": "stream",
     "text": [
      "start Trippy launch\n"
     ]
    },
    {
     "name": "stderr",
     "output_type": "stream",
     "text": [
      "127.0.0.1 - - [26/Feb/2018 17:44:41] \"POST / HTTP/1.1\" 200 -\n"
     ]
    },
    {
     "name": "stdout",
     "output_type": "stream",
     "text": [
      "payment intent called withBaltimore\n"
     ]
    },
    {
     "name": "stderr",
     "output_type": "stream",
     "text": [
      "127.0.0.1 - - [26/Feb/2018 17:44:49] \"POST / HTTP/1.1\" 200 -\n"
     ]
    },
    {
     "name": "stdout",
     "output_type": "stream",
     "text": [
      "start Trippy launch\n"
     ]
    },
    {
     "name": "stderr",
     "output_type": "stream",
     "text": [
      "127.0.0.1 - - [26/Feb/2018 17:44:57] \"POST / HTTP/1.1\" 200 -\n"
     ]
    },
    {
     "name": "stdout",
     "output_type": "stream",
     "text": [
      "travel intent called with: New Orleans and hotel\n"
     ]
    },
    {
     "name": "stderr",
     "output_type": "stream",
     "text": [
      "127.0.0.1 - - [26/Feb/2018 17:45:04] \"POST / HTTP/1.1\" 200 -\n"
     ]
    },
    {
     "name": "stdout",
     "output_type": "stream",
     "text": [
      "start Trippy launch\n"
     ]
    },
    {
     "name": "stderr",
     "output_type": "stream",
     "text": [
      "127.0.0.1 - - [26/Feb/2018 17:45:12] \"POST / HTTP/1.1\" 200 -\n"
     ]
    },
    {
     "name": "stdout",
     "output_type": "stream",
     "text": [
      "budget intent called with:700\n"
     ]
    },
    {
     "name": "stderr",
     "output_type": "stream",
     "text": [
      "127.0.0.1 - - [26/Feb/2018 17:45:55] \"POST / HTTP/1.1\" 200 -\n"
     ]
    },
    {
     "name": "stdout",
     "output_type": "stream",
     "text": [
      "start Trippy launch\n"
     ]
    },
    {
     "name": "stderr",
     "output_type": "stream",
     "text": [
      "127.0.0.1 - - [26/Feb/2018 17:46:03] \"POST / HTTP/1.1\" 200 -\n"
     ]
    },
    {
     "name": "stdout",
     "output_type": "stream",
     "text": [
      "budget intent called with:800\n"
     ]
    },
    {
     "name": "stderr",
     "output_type": "stream",
     "text": [
      "127.0.0.1 - - [26/Feb/2018 17:46:22] \"POST / HTTP/1.1\" 200 -\n"
     ]
    },
    {
     "name": "stdout",
     "output_type": "stream",
     "text": [
      "start Trippy launch\n"
     ]
    },
    {
     "name": "stderr",
     "output_type": "stream",
     "text": [
      "127.0.0.1 - - [26/Feb/2018 17:46:29] \"POST / HTTP/1.1\" 200 -\n"
     ]
    },
    {
     "name": "stdout",
     "output_type": "stream",
     "text": [
      "travel intent called with: Seattle and None\n"
     ]
    }
   ],
   "source": [
    "from pandas import DataFrame\n",
    "from pandas import read_csv\n",
    "\n",
    "\n",
    "cities = read_csv(\"Trippycities.csv\")\n",
    "cities\n",
    "\n",
    "from alexa_bot import AlexaBot\n",
    "from flask_ask import statement, question, session\n",
    "\n",
    "def payment_intent(us_city):\n",
    "    print(\"payment intent called with\" + us_city)\n",
    "    if sum(cities[\"city_name\"] == us_city) == 1:\n",
    "        payment = cities[(cities[\"city_name\"] == us_city)][\"budget_range\"].iloc[0]\n",
    "        return(statement(\"To go to {0} you would need {1} dollars\".format(us_city, payment)))\n",
    "    return(statement(\"I don't know how much you should pay for {0}\".format(us_city)))\n",
    "\n",
    "\n",
    "def budget_intent(number):\n",
    "    print(\"budget intent called with:\" + number)\n",
    "    number = int(number)\n",
    "    if sum(cities[\"budget_range\"] == number) == 1:\n",
    "        place = cities[(cities[\"budget_range\"] == number)][\"city_name\"].iloc[0]\n",
    "        return(statement(\"For {0} dollars you can go to {1}\".format(number, place)))\n",
    "    return(statement(\"Bummer! I couldn't tell ya!\"))\n",
    "        \n",
    "def travel_intent(us_city, travel_info):\n",
    "    print(\"travel intent called with: {0} and {1}\".format(us_city, travel_info))\n",
    "    if sum(cities[\"city_name\"] == us_city) == 1:\n",
    "        lodging = cities[(cities[\"city_name\"] == us_city)][\"hotel\"].iloc[0]\n",
    "        return(statement(\"We recommend {0} for {1}\".format(lodging, us_city)))\n",
    "    return(statement(\"Sorry, I don't have a recommendation for {0} in my database yet\".format(us_city)))\n",
    "\n",
    "def launch_intent():\n",
    "    print(\"start Trippy launch\")\n",
    "    return(question(\"Welcome! How can I plan your travel today?\"))\n",
    "\n",
    "def no_intent():\n",
    "    print(\"the no intent was called\")\n",
    "    return(statement(\"no? really?\"))\n",
    "\n",
    "def yes_intent():\n",
    "    print(\"the yes intent was called\")\n",
    "    return(statement(\"yes!\"))\n",
    "\n",
    "# we need to update our config and start our bot again\n",
    "config = [\n",
    "    ['launch', launch_intent],\n",
    "    ['AMAZON.NoIntent', no_intent],\n",
    "    ['AMAZON.YesIntent', yes_intent],\n",
    "    ['PaymentIntent', payment_intent],\n",
    "    ['TravelInfoIntent', travel_intent],\n",
    "    ['BudgetIntent', budget_intent]\n",
    "    \n",
    "]\n",
    "\n",
    "# create our bot object\n",
    "bot = AlexaBot(config)\n",
    "\n",
    "# start up our bot\n",
    "bot.start()"
   ]
  },
  {
   "cell_type": "code",
   "execution_count": null,
   "metadata": {
    "collapsed": true
   },
   "outputs": [],
   "source": [
    "\n"
   ]
  },
  {
   "cell_type": "code",
   "execution_count": null,
   "metadata": {
    "collapsed": true
   },
   "outputs": [],
   "source": []
  },
  {
   "cell_type": "code",
   "execution_count": null,
   "metadata": {
    "collapsed": true
   },
   "outputs": [],
   "source": []
  },
  {
   "cell_type": "code",
   "execution_count": null,
   "metadata": {
    "collapsed": true
   },
   "outputs": [],
   "source": []
  }
 ],
 "metadata": {
  "kernelspec": {
   "display_name": "Python 3",
   "language": "python",
   "name": "python3"
  },
  "language_info": {
   "codemirror_mode": {
    "name": "ipython",
    "version": 3
   },
   "file_extension": ".py",
   "mimetype": "text/x-python",
   "name": "python",
   "nbconvert_exporter": "python",
   "pygments_lexer": "ipython3",
   "version": "3.6.3"
  }
 },
 "nbformat": 4,
 "nbformat_minor": 2
}
